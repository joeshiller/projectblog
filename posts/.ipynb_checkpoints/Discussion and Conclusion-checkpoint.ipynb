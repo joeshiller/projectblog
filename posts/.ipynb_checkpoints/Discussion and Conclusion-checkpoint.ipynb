{
 "cells": [
  {
   "cell_type": "markdown",
   "id": "5ab18e66",
   "metadata": {},
   "source": [
    "### Discussion\n",
    "\n",
    "This project aimed to analyze coup events across various countries and use socioeconomic indicators to predict future coup attempts. The analysis revealed that Bolivia, Sudan, Argentina, Haiti, Venezuela, Syria, Thailand, Iraq, Guatemala, and Panama are the top 10 countries with the most coup events, with Bolivia experiencing the highest number. The types of coup events, including coups, attempts, and conspiracies, varied significantly across different countries and time periods, influenced by unique political, economic, and social factors.\n",
    "\n",
    "Key socioeconomic indicators identified as predictors of future coup attempts include the Human Development Index (HDI), population size in recent years, economic forecasts from institutions like the IMF, World Bank, and UN, as well as growth rates in HDI and population. The Random Forest model outperformed Logistic Regression with L1 and L2 regularization in predicting future coup attempts, achieving a higher accuracy of 0.79 and better cross-validation AUC scores of 0.78. The Random Forest model's superior performance is attributed to its ability to capture complex non-linear relationships and interactions between features, handle class imbalance effectively, and provide robust predictions despite outliers and noise.\n",
    "\n",
    "The Random Forest model results were impressive, with cross-validation accuracy scores ranging from 0.73 to 0.84 and cross-validation AUC scores ranging from 0.64 to 0.87. The average cross-validation accuracy was 0.791, and the average cross-validation AUC was 0.776. The test set accuracy was 0.795, demonstrating the model's generalizability. The classification report further highlighted the model's performance, with a precision, recall, and f1-score of 0.64 for class 0 (no coup attempts) and 0.86 for class 1 (coup attempts).\n",
    "\n",
    "Importantly, the Random Forest model identified the most significant features in predicting coup attempts. The Human Development Index (HDI), population size, and GDP were among the top predictors. These indicators highlight the critical role of socioeconomic factors in understanding and forecasting political instability. HDI reflects the overall development level of a country, while population size and GDP provide insights into demographic and economic conditions, respectively. These findings underscore the need to consider multiple dimensions of socioeconomic data when assessing the risk of coups.\n",
    "\n",
    "## Conclusion\n",
    "Understanding the patterns and causes of coup events is crucial for analyzing political stability and identifying factors that contribute to future coup attempts. By leveraging models like Random Forest, policymakers and analysts can take proactive measures to enhance political stability and prevent future political instability. This project underscores the importance of using advanced predictive models and comprehensive socioeconomic data to anticipate and mitigate the risks that events like this can cause. The data clearly shows that developing, authoritarian, and conflict-ridden countries are more prone to frequent coups and political instability. This instability has far-reaching negative impacts on the economic, social, and human rights conditions of the affected populations. Understanding these patterns and predicting future coups is crucial for implementing measures to enhance political stability and improve the quality of life in these regions. Tracking HDI & GDP can help organizations provide aid to countries in need before their instability becomes out of control. "
   ]
  },
  {
   "cell_type": "markdown",
   "id": "25ad25cc",
   "metadata": {},
   "source": [
    "---\n",
    "title: \"Discussion and Results\"\n",
    "description: \"Findings & what it means\"\n",
    "author: \"Joseph Shiller\"\n",
    "date: \"August 2 2024\"\n",
    "date-modified: \"August 2 2024\"\n",
    "\n",
    "---"
   ]
  },
  {
   "cell_type": "markdown",
   "id": "6be99c20",
   "metadata": {},
   "source": [
    "## Datasets ##\n",
    "\n",
    "Peyton, Buddy; Bajjalieh, Joseph; Shalmon, Dan; Martin, Michael; Bonaguro, Jonathan; Soto, Emilio (2023): Cline Center Coup d’État Project Dataset. University of Illinois at Urbana-Champaign. https://doi.org/10.13012/B2IDB-9651987_V6 \n",
    "\n",
    "Nidula Elgiriyewithana. (2023). Global Country Information Dataset 2023 [Data set]. Kaggle. https://doi.org/10.34740/KAGGLE/DSV/6101670\n",
    "\n",
    "Humphery-Smith, E., & Bovcon, M. (2022, June 1). Anatomy of a coup: Social and governance red flags common in vulnerable countries. Maplecroft. Retrieved from https://www.maplecroft.com/insights/analysis/anatomy-of-a-coup-social-governance-red-flags-common-vulnerable-countries/"
   ]
  },
  {
   "cell_type": "code",
   "execution_count": null,
   "id": "6a9af9f9",
   "metadata": {},
   "outputs": [],
   "source": []
  }
 ],
 "metadata": {
  "kernelspec": {
   "display_name": "Python 3 (ipykernel)",
   "language": "python",
   "name": "python3"
  },
  "language_info": {
   "codemirror_mode": {
    "name": "ipython",
    "version": 3
   },
   "file_extension": ".py",
   "mimetype": "text/x-python",
   "name": "python",
   "nbconvert_exporter": "python",
   "pygments_lexer": "ipython3",
   "version": "3.11.6"
  }
 },
 "nbformat": 4,
 "nbformat_minor": 5
}
